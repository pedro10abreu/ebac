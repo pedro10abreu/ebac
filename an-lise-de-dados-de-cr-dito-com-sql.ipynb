{
 "cells": [
  {
   "cell_type": "code",
   "execution_count": null,
   "id": "907171db",
   "metadata": {
    "papermill": {
     "duration": 0.004119,
     "end_time": "2022-05-09T02:53:01.599251",
     "exception": false,
     "start_time": "2022-05-09T02:53:01.595132",
     "status": "completed"
    },
    "tags": []
   },
   "outputs": [],
   "source": []
  },
  {
   "cell_type": "markdown",
   "id": "adebca0f",
   "metadata": {
    "papermill": {
     "duration": 0.004582,
     "end_time": "2022-05-09T02:53:01.608035",
     "exception": false,
     "start_time": "2022-05-09T02:53:01.603453",
     "status": "completed"
    },
    "tags": []
   },
   "source": [
    "# Análise de Dados de Crédito com SQL\n",
    "\n",
    "**1) Sobre os dados**\n",
    "\n",
    "Foi utilizado um banco de dados de crédito extraído do Kaggle para análise do perfil de crédito utilizando SQL.\n",
    "\n",
    "**Base utilizada**: (https://github.com/pedro10abreu/ebac/blob/96df983db45cf7149a3a464c38bf7a9abc1ce536/credito.csv)\n",
    "\n",
    "Para análise foram utilizados o **AWS S3** e o **AWS Athena** como ferramenta de armazenagem e consulta dos dados.\n",
    "\n",
    "A descrição das informações contidas nos dados é mostrada abaixo:\n",
    "\n",
    "> idade |  int | idade dos clientes\n",
    "\n",
    "> sexo |  string | sexo dos clientes\n",
    "\n",
    "> dependentes |  int | n° dependentes dos clientes\n",
    "\n",
    "> escolaridade |  string | escolaridade dos clientes\n",
    "\n",
    "> estado_civil |  string | estado civil dos clientes\n",
    "\n",
    "> faixa_salarial |  string | faixa salarial dos clientes\n",
    "\n",
    "> tipo_cartao |  string | tipo de cartão dos clientes\n",
    "\n",
    "> qtd_produtos |  int | quantidade de produtos utilizados pelos clientes\n",
    "\n",
    "> interacoes_12m |  int | n° interacoes dos clientes no últimos 12 meses\n",
    "\n",
    "> meses_inativo_12m |  int | n° meses inativos  dos clientes no último 12 meses\n",
    "\n",
    "> limite_credito |  bigint | limite de crédito dos clientes\n",
    "\n",
    "> valor_transacoes_12m |  bigint | valor transacionado pelos clientes no últimos 12 meses\n",
    "\n",
    "> qtd_transacoes_12m |  bigint | quantidade de transações realizadas pelos clientes nos últimos 12 meses\n",
    "\n",
    "**Exploração dos Dados**\n",
    "\n",
    "Primeiramente os dados foram importados e a tabela de credito foi criada no AWS Athena após upload no AWS S3.\n",
    "\n",
    "**Query: Criação da tabela credito**\n",
    "\n",
    "![Criação da Tabela credito](https://github.com/pedro10abreu/ebac/blob/main/Query%20cria%C3%A7%C3%A3o%20tabela%20cr%C3%A9dito.png?raw=true)\n",
    "\n",
    "Após criação da tabela, verifiquei o tipo dos dados contidos na mesma:\n",
    "\n",
    "**Query: Tipo das informações da base de dados.**\n",
    "\n",
    "![](https://github.com/pedro10abreu/ebac/blob/main/Query%20descri%C3%A7%C3%A3o%20tabela%20cr%C3%A9dito.png?raw=true)\n",
    "\n",
    "Antes de explorar os dados é importante visualizar os mesmo,sendo assim foi criada uma visualização dos dados:\n",
    "\n",
    "**Query: Visualização dos dados**\n",
    "\n",
    "![](https://github.com/pedro10abreu/ebac/blob/main/Query%20visualizar%20tabela%20cr%C3%A9dito.png?raw=true)\n",
    "\n",
    "Buscando entender o perfil dos clientes da base de dados, elaborei alguns questionamentos como guia para a análise:\n",
    "\n",
    "**Questionamentos**\n",
    "\n",
    "**0 - Qual o tamanho da base utilizada?**\n",
    "\n",
    "> **Query: A base possui 2564 linhas.**\n",
    "\n",
    "![](https://github.com/pedro10abreu/ebac/blob/main/Query%20tamanho%20da%20base%20cr%C3%A9dito.png?raw=true)\n",
    "\n",
    "\n",
    "\n",
    "\n",
    "\n",
    "\n",
    "\n",
    "\n",
    "\n",
    "\n",
    "\n",
    "\n",
    "\n",
    "\n",
    "\n",
    "\n"
   ]
  },
  {
   "cell_type": "markdown",
   "id": "8369a58f",
   "metadata": {
    "papermill": {
     "duration": 0.002682,
     "end_time": "2022-05-09T02:53:01.614335",
     "exception": false,
     "start_time": "2022-05-09T02:53:01.611653",
     "status": "completed"
    },
    "tags": []
   },
   "source": []
  }
 ],
 "metadata": {
  "kernelspec": {
   "display_name": "Python 3",
   "language": "python",
   "name": "python3"
  },
  "language_info": {
   "codemirror_mode": {
    "name": "ipython",
    "version": 3
   },
   "file_extension": ".py",
   "mimetype": "text/x-python",
   "name": "python",
   "nbconvert_exporter": "python",
   "pygments_lexer": "ipython3",
   "version": "3.7.12"
  },
  "papermill": {
   "default_parameters": {},
   "duration": 8.978774,
   "end_time": "2022-05-09T02:53:02.239019",
   "environment_variables": {},
   "exception": null,
   "input_path": "__notebook__.ipynb",
   "output_path": "__notebook__.ipynb",
   "parameters": {},
   "start_time": "2022-05-09T02:52:53.260245",
   "version": "2.3.4"
  }
 },
 "nbformat": 4,
 "nbformat_minor": 5
}
